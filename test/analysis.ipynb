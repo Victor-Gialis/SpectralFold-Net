{
 "cells": [
  {
   "cell_type": "code",
   "execution_count": 42,
   "id": "805d4b13",
   "metadata": {},
   "outputs": [],
   "source": [
    "from torch.utils.data import DataLoader\n",
    "from data.data.dataloader import CWRUDataset, custom_collate_fn\n",
    "\n",
    "size = 2**14 # 16384\n",
    "recovery = 0.95\n",
    "\n",
    "train_dataset = CWRUDataset(\n",
    "    fault_filter=['normal', 'inner', 'outer'],\n",
    "    window_size=size,\n",
    "    stride=int(size * (1 - recovery)))\n",
    "\n",
    "test_dataset = CWRUDataset(\n",
    "    fault_filter=['ball'],\n",
    "    window_size=size,\n",
    "    stride=int(size * (1 - recovery)))\n",
    "\n",
    "train_loader = DataLoader(train_dataset, batch_size=32, shuffle=True, collate_fn=custom_collate_fn)\n",
    "test_loader = DataLoader(test_dataset, batch_size=32, shuffle=False, collate_fn=custom_collate_fn)"
   ]
  },
  {
   "cell_type": "code",
   "execution_count": 43,
   "id": "822df22e",
   "metadata": {},
   "outputs": [
    {
     "name": "stdout",
     "output_type": "stream",
     "text": [
      "8192 16384\n"
     ]
    },
    {
     "data": {
      "text/plain": [
       "Text(0, 0.5, 'Amplitude')"
      ]
     },
     "execution_count": 43,
     "metadata": {},
     "output_type": "execute_result"
    },
    {
     "data": {
      "image/png": "[encoded data removed]",
      "text/plain": [
       "<Figure size 432x288 with 2 Axes>"
      ]
     },
     "metadata": {
      "needs_background": "light"
     },
     "output_type": "display_data"
    }
   ],
   "source": [
    "import torch\n",
    "import matplotlib.pyplot as plt\n",
    "# Get the first batch from the DataLoader\n",
    "first_batch = next(iter(train_loader))\n",
    "# Extract the signals from the batch\n",
    "signals_reduce = torch.stack(first_batch['vibration_fft_reduce']).unsqueeze(1)  # (batch_size, 1, signal_length)\n",
    "signals_complete = torch.stack(first_batch['vibration_fft_complete']).unsqueeze(1)  # (batch_size, 1, signal_length)\n",
    "Nr = signals_reduce.shape[2]  # Length of the signal\n",
    "Nc = signals_complete.shape[2]  # Length of the signal\n",
    "\n",
    "fs = 12000  # Sampling frequency\n",
    "sub_fs = fs/(Nc//Nr)\n",
    "\n",
    "freq_reduce = torch.fft.rfftfreq(Nr, d=1/sub_fs)  # Frequency bins for reduced signal\n",
    "freq_complete = torch.fft.rfftfreq(Nc, d=1/fs)  # Frequency bins for complete signal\n",
    "\n",
    "print(Nr,Nc)\n",
    "# Get the first signal from the batch\n",
    "plt.subplot(2, 1, 1)\n",
    "plt.plot(freq_reduce.numpy(), signals_reduce[0, 0, :freq_reduce.shape[0]].numpy())\n",
    "plt.title('Reduced Signal')\n",
    "plt.xlabel('Frequency (Hz)')\n",
    "plt.ylabel('Amplitude')\n",
    "plt.subplot(2, 1, 2)\n",
    "plt.plot(freq_complete.numpy(), signals_complete[0, 0, :freq_complete.shape[0]].numpy())\n",
    "plt.title('Complete Signal')\n",
    "plt.xlabel('Frequency (Hz)')\n",
    "plt.ylabel('Amplitude')\n"
   ]
  },
  {
   "cell_type": "code",
   "execution_count": 44,
   "id": "582c1ea8",
   "metadata": {},
   "outputs": [
    {
     "data": {
      "text/plain": [
       "(torch.Size([32, 1, 16384]),\n",
       " torch.Size([32, 1, 8192]),\n",
       " torch.Size([8193]),\n",
       " torch.Size([4097]))"
      ]
     },
     "execution_count": 44,
     "metadata": {},
     "output_type": "execute_result"
    }
   ],
   "source": [
    "signals_complete.shape, signals_reduce.shape, freq_complete.shape, freq_reduce.shape"
   ]
  },
  {
   "cell_type": "code",
   "execution_count": 45,
   "id": "4be3fdb3",
   "metadata": {},
   "outputs": [
    {
     "data": {
      "text/plain": [
       "torch.Size([32, 1, 4096])"
      ]
     },
     "execution_count": 45,
     "metadata": {},
     "output_type": "execute_result"
    }
   ],
   "source": [
    "signals_complete[...,::4].shape"
   ]
  }
 ],
 "metadata": {
  "kernelspec": {
   "display_name": "base",
   "language": "python",
   "name": "python3"
  },
  "language_info": {
   "codemirror_mode": {
    "name": "ipython",
    "version": 3
   },
   "file_extension": ".py",
   "mimetype": "text/x-python",
   "name": "python",
   "nbconvert_exporter": "python",
   "pygments_lexer": "ipython3",
   "version": "3.9.7"
  }
 },
 "nbformat": 4,
 "nbformat_minor": 5
}
